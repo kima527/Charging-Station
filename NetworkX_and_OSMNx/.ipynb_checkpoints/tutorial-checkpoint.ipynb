{
 "cells": [
  {
   "cell_type": "markdown",
   "metadata": {
    "pycharm": {
     "name": "#%% md\n"
    },
    "slideshow": {
     "slide_type": "slide"
    }
   },
   "source": [
    "## What is OMSnx?\n",
    "\n",
    "> OSMnx is a Python package that lets you download geospatial data from OpenStreetMap and model, project, visualize, and analyze real-world street networks and any other geospatial geometries. "
   ]
  },
  {
   "cell_type": "markdown",
   "metadata": {
    "cell_style": "split",
    "slideshow": {
     "slide_type": "fragment"
    }
   },
   "source": [
    "OSMnx provides tools for\n",
    "* Downloading geospatial data from OpenStreetMap (OSM)\n",
    "    * Street network (with metadata)\n",
    "    * Points of interest (e.g., stores)\n",
    "* Modeling OSM street networks as NetworkX graphs\n",
    "* (Street-)network simplification and clean up\n",
    "* Basic routing\n",
    "* Visualization"
   ]
  },
  {
   "cell_type": "markdown",
   "metadata": {
    "cell_style": "split",
    "slideshow": {
     "slide_type": "fragment"
    }
   },
   "source": [
    "It bases on\n",
    "* NetworkX (street network representation)\n",
    "* GeoPandas (collections of geometries25)\n",
    "* Shapely (geometry representation)"
   ]
  },
  {
   "cell_type": "markdown",
   "metadata": {
    "slideshow": {
     "slide_type": "slide"
    }
   },
   "source": [
    "## OSMnx Tutorial\n",
    "\n",
    "Case study: How well is waste container coverage of the city of munich. Steps:"
   ]
  },
  {
   "cell_type": "markdown",
   "metadata": {
    "slideshow": {
     "slide_type": "fragment"
    }
   },
   "source": [
    "* Get boundaries/area of munich\n",
    "* Find all waste containers within this area\n",
    "* Determine the area covered by these\n",
    "\n",
    "First, import the required libraries:"
   ]
  },
  {
   "cell_type": "code",
   "execution_count": null,
   "metadata": {
    "init_cell": true,
    "pycharm": {
     "name": "#%%\n"
    },
    "slideshow": {
     "slide_type": "fragment"
    }
   },
   "outputs": [],
   "source": [
    "# Hide warnings\n",
    "import warnings\n",
    "warnings.filterwarnings(\"ignore\", category=DeprecationWarning)\n",
    "\n",
    "import geopandas as gpd\n",
    "import osmnx as osm\n",
    "import pandas as pd\n",
    "import networkx as nx\n",
    "from matplotlib import pyplot as plt\n",
    "\n",
    "# Display plots in notebook\n",
    "%matplotlib inline"
   ]
  },
  {
   "cell_type": "markdown",
   "metadata": {
    "slideshow": {
     "slide_type": "subslide"
    }
   },
   "source": [
    "### Getting boundaries of Munich\n",
    "\n",
    "OSMnx provides the `geocode_to_gdf()` function to query OSM:\n",
    "\n",
    "> Retrieve place(s) by name or ID from the Nominatim API as a GeoDataFrame. You can query by place name or OSM ID. If querying by place name, the query argument can be a string or structured dict, or a list of such strings/dicts to send to geocoder.\n",
    "    \n",
    "#### Parameters\n",
    "* **query** : `string` or dict or list query string(s) or structured dict(s) to geocode\n",
    "* **which_result** : `int`, which geocoding result to use. if None, auto-select the first (Multi)Polygon or raise an error if OSM doesn't return one. to get the top match regardless of geometry type, set which_result=1\n",
    "* **by_osmid** : `bool`, if True, handle query as an OSM ID for lookup rather than text search\n",
    "* **buffer_dist** : `float`, distance to buffer around the place geometry, in meters\n",
    "* **Returns**: a `GeoDataFrame` with one row for each query"
   ]
  },
  {
   "cell_type": "markdown",
   "metadata": {
    "slideshow": {
     "slide_type": "fragment"
    }
   },
   "source": [
    "Lets utilize it to get the boundaries of the city of munich."
   ]
  },
  {
   "cell_type": "code",
   "execution_count": null,
   "metadata": {
    "cell_style": "center",
    "pycharm": {
     "name": "#%%\n"
    },
    "scrolled": true,
    "slideshow": {
     "slide_type": "fragment"
    }
   },
   "outputs": [],
   "source": [
    "munich = osm.geocode_to_gdf({\n",
    "    'city': 'München',\n",
    "    'state': 'Bayern',\n",
    "    'Country': 'Deutschland'\n",
    "})\n",
    "\n",
    "munich"
   ]
  },
  {
   "cell_type": "markdown",
   "metadata": {
    "slideshow": {
     "slide_type": "subslide"
    }
   },
   "source": [
    "We can now use geopandas to plot the area:"
   ]
  },
  {
   "cell_type": "code",
   "execution_count": null,
   "metadata": {
    "cell_style": "center",
    "pycharm": {
     "name": "#%%\n"
    },
    "slideshow": {
     "slide_type": "fragment"
    }
   },
   "outputs": [],
   "source": [
    "munich.plot()"
   ]
  },
  {
   "cell_type": "markdown",
   "metadata": {
    "slideshow": {
     "slide_type": "slide"
    }
   },
   "source": [
    "## Getting geospatial data\n",
    "\n",
    "OSMnx is not limited to querying for boundaries. Instead, we can query (arbitrary) data from [OSM](https://wiki.openstreetmap.org/wiki/Map_features) based on ***tags***."
   ]
  },
  {
   "cell_type": "markdown",
   "metadata": {
    "slideshow": {
     "slide_type": "fragment"
    }
   },
   "source": [
    "Let's find all (glass) waste containers in munich:"
   ]
  },
  {
   "cell_type": "code",
   "execution_count": null,
   "metadata": {
    "cell_style": "split",
    "run_control": {
     "marked": true
    },
    "slideshow": {
     "slide_type": "fragment"
    }
   },
   "outputs": [],
   "source": [
    "# We can query for arbitrary objects using tags:\n",
    "containers = osm.geometries_from_place('München, Bayern', {'amenity': 'recycling'})\n",
    "print(len(containers))\n",
    "containers.head(4)"
   ]
  },
  {
   "cell_type": "code",
   "execution_count": null,
   "metadata": {
    "cell_style": "split",
    "slideshow": {
     "slide_type": "fragment"
    }
   },
   "outputs": [],
   "source": [
    "containers.plot()"
   ]
  },
  {
   "cell_type": "markdown",
   "metadata": {
    "slideshow": {
     "slide_type": "slide"
    }
   },
   "source": [
    "**Caveat**: `amenity: recycling` comprises not only glass waste containers *(Know your data!)*"
   ]
  },
  {
   "cell_type": "code",
   "execution_count": null,
   "metadata": {
    "slideshow": {
     "slide_type": "-"
    }
   },
   "outputs": [],
   "source": [
    "non_containers = containers[containers['recycling_type'] != 'container']\n",
    "print(len(non_containers))\n",
    "non_containers.head(4)"
   ]
  },
  {
   "cell_type": "markdown",
   "metadata": {
    "slideshow": {
     "slide_type": "fragment"
    }
   },
   "source": [
    "Any ideas?"
   ]
  },
  {
   "cell_type": "markdown",
   "metadata": {
    "slideshow": {
     "slide_type": "subslide"
    }
   },
   "source": [
    "Let's try combining tags:"
   ]
  },
  {
   "cell_type": "code",
   "execution_count": null,
   "metadata": {
    "slideshow": {
     "slide_type": "fragment"
    }
   },
   "outputs": [],
   "source": [
    "actual_containers = osm.geometries_from_place('München, Bayern', {'amenity': 'recycling', 'recycling_type': 'container'})\n",
    "len(actual_containers)"
   ]
  },
  {
   "cell_type": "code",
   "execution_count": null,
   "metadata": {
    "slideshow": {
     "slide_type": "fragment"
    }
   },
   "outputs": [],
   "source": [
    "containers = containers[containers['recycling_type'] == 'container']\n",
    "containers.head(4)"
   ]
  },
  {
   "cell_type": "markdown",
   "metadata": {
    "slideshow": {
     "slide_type": "subslide"
    }
   },
   "source": [
    "## Working with Geospatial data\n",
    "\n",
    "#### => How well is munich covered?"
   ]
  },
  {
   "cell_type": "code",
   "execution_count": null,
   "metadata": {
    "cell_style": "center",
    "run_control": {
     "marked": false
    },
    "slideshow": {
     "slide_type": "fragment"
    }
   },
   "outputs": [],
   "source": [
    "# Print container locations over munich map\n",
    "ax = munich.plot()\n",
    "containers.plot(ax=ax, color='r')"
   ]
  },
  {
   "cell_type": "code",
   "execution_count": null,
   "metadata": {
    "slideshow": {
     "slide_type": "fragment"
    }
   },
   "outputs": [],
   "source": [
    "# Lets try to plot coverage\n",
    "areas_covered = containers.buffer(500)\n",
    "ax = munich.plot()\n",
    "areas_covered.plot(ax=ax, color='r')"
   ]
  },
  {
   "cell_type": "markdown",
   "metadata": {
    "slideshow": {
     "slide_type": "fragment"
    }
   },
   "source": [
    "**Problem**: We buffer by a lat/long of 500 meters!"
   ]
  },
  {
   "cell_type": "markdown",
   "metadata": {
    "slideshow": {
     "slide_type": "subslide"
    }
   },
   "source": [
    "Again, OSMnx to the rescue! We can *project* `GeoDataFrames` into different coordinate reference systems (CRS), i.e., one based on meters:"
   ]
  },
  {
   "cell_type": "code",
   "execution_count": null,
   "metadata": {
    "slideshow": {
     "slide_type": "subslide"
    }
   },
   "outputs": [],
   "source": [
    "# Containers is in lat/lon! => Project to meters\n",
    "containers_meters = osm.project_gdf(containers)\n",
    "display(containers_meters.head(4))"
   ]
  },
  {
   "cell_type": "code",
   "execution_count": null,
   "metadata": {
    "slideshow": {
     "slide_type": "fragment"
    }
   },
   "outputs": [],
   "source": [
    "areas_covered = containers_meters.buffer(500)\n",
    "munich_meters = osm.project_gdf(munich)\n",
    "ax = munich_meters.plot()\n",
    "areas_covered.plot(ax=ax, color='r')"
   ]
  },
  {
   "cell_type": "markdown",
   "metadata": {
    "slideshow": {
     "slide_type": "subslide"
    }
   },
   "source": [
    "## Answering the question\n",
    "\n",
    "#### How well is munich covered by waste disposal containers?"
   ]
  },
  {
   "cell_type": "code",
   "execution_count": null,
   "metadata": {
    "slideshow": {
     "slide_type": "fragment"
    }
   },
   "outputs": [],
   "source": [
    "# Get uncovered area\n",
    "covered_area = areas_covered.unary_union\n",
    "uncovered_area = munich_meters.difference(covered_area)\n",
    "uncovered_area.plot()"
   ]
  },
  {
   "cell_type": "code",
   "execution_count": null,
   "metadata": {
    "slideshow": {
     "slide_type": "fragment"
    }
   },
   "outputs": [],
   "source": [
    "print(f'Uncovered area: {uncovered_area.area[0]}, of total: {munich_meters.area[0]} => {(uncovered_area.area[0] / munich_meters.area[0] * 100):.2f}%')"
   ]
  },
  {
   "cell_type": "markdown",
   "metadata": {
    "cell_style": "center",
    "slideshow": {
     "slide_type": "slide"
    }
   },
   "source": [
    "### Overview of geopandas/shapely methods\n",
    "See further: [Documentation](https://shapely.readthedocs.io/en/latest/manual.html)\n",
    "\n",
    "#### Construction\n",
    "* buffer\n",
    "* unary_union\n",
    "* convex_hull\n",
    "\n",
    "#### Set theoretic operations\n",
    "* difference\n",
    "* intersection\n",
    "* union\n",
    "* centroid\n",
    "\n",
    "#### Geospatial relations\n",
    "* contains\n",
    "* covers\n",
    "* intersects"
   ]
  },
  {
   "cell_type": "markdown",
   "metadata": {
    "slideshow": {
     "slide_type": "slide"
    }
   },
   "source": [
    "## Getting the street network"
   ]
  },
  {
   "cell_type": "code",
   "execution_count": null,
   "metadata": {
    "pycharm": {
     "name": "#%%\n"
    },
    "run_control": {
     "marked": false
    },
    "scrolled": false,
    "slideshow": {
     "slide_type": "fragment"
    }
   },
   "outputs": [],
   "source": [
    "munich_streets = osm.graph_from_place('Maxvorstadt, Munich, Germany', network_type='drive')\n",
    "# What are we dealing with?\n",
    "print(type(munich_streets))\n",
    "# Get some info on the graph\n",
    "print(nx.info(munich_streets))"
   ]
  },
  {
   "cell_type": "code",
   "execution_count": null,
   "metadata": {
    "pycharm": {
     "name": "#%%\n"
    },
    "slideshow": {
     "slide_type": "fragment"
    }
   },
   "outputs": [],
   "source": [
    "osm.plot_graph(munich_streets)"
   ]
  },
  {
   "cell_type": "markdown",
   "metadata": {
    "slideshow": {
     "slide_type": "subslide"
    }
   },
   "source": [
    "What data does this graph carry?"
   ]
  },
  {
   "cell_type": "code",
   "execution_count": null,
   "metadata": {
    "slideshow": {
     "slide_type": "fragment"
    }
   },
   "outputs": [],
   "source": [
    "nodes, edges = osm.graph_to_gdfs(munich_streets)\n",
    "display(nodes.head(4))\n",
    "display(edges.head(4))"
   ]
  },
  {
   "cell_type": "markdown",
   "metadata": {
    "slideshow": {
     "slide_type": "fragment"
    }
   },
   "source": [
    "Street networks as returned by OSMnx are just NetworkX graphs with additional data!"
   ]
  },
  {
   "cell_type": "markdown",
   "metadata": {
    "slideshow": {
     "slide_type": "slide"
    }
   },
   "source": [
    "**=> We can use all of NetworkX's functions on the street network!**"
   ]
  },
  {
   "cell_type": "code",
   "execution_count": null,
   "metadata": {
    "pycharm": {
     "name": "#%%\n"
    },
    "slideshow": {
     "slide_type": "fragment"
    }
   },
   "outputs": [],
   "source": [
    "top_nodes = sorted(munich_streets.degree, key=lambda x: x[1], reverse=True)[:10]\n",
    "top_nodes"
   ]
  },
  {
   "cell_type": "code",
   "execution_count": null,
   "metadata": {
    "slideshow": {
     "slide_type": "fragment"
    }
   },
   "outputs": [],
   "source": [
    "osm.plot_graph(munich_streets, node_color=['r' if node in top_nodes else 'w' for node in munich_streets])"
   ]
  },
  {
   "cell_type": "markdown",
   "metadata": {
    "slideshow": {
     "slide_type": "subslide"
    }
   },
   "source": [
    "Let's take a closer look on the network..."
   ]
  },
  {
   "cell_type": "code",
   "execution_count": null,
   "metadata": {
    "cell_style": "split",
    "slideshow": {
     "slide_type": "fragment"
    }
   },
   "outputs": [],
   "source": [
    "karolinenplatz_coords = (48.145136, 11.572600)\n",
    "karolinenplatz = osm.graph_from_point(karolinenplatz_coords, dist=500, network_type='drive')\n",
    "osm.plot_graph(karolinenplatz)"
   ]
  },
  {
   "cell_type": "code",
   "execution_count": null,
   "metadata": {
    "cell_style": "split",
    "slideshow": {
     "slide_type": "-"
    }
   },
   "outputs": [],
   "source": [
    "osm.plot_graph_folium(karolinenplatz, zoom=15, fit_bounds=False)"
   ]
  },
  {
   "cell_type": "markdown",
   "metadata": {
    "slideshow": {
     "slide_type": "fragment"
    }
   },
   "source": [
    " **Lots of superfluous nodes!**"
   ]
  },
  {
   "cell_type": "markdown",
   "metadata": {
    "slideshow": {
     "slide_type": "subslide"
    }
   },
   "source": [
    "OSMnx already does ***some*** sparsification in the background:"
   ]
  },
  {
   "cell_type": "code",
   "execution_count": null,
   "metadata": {
    "cell_style": "split",
    "pycharm": {
     "name": "#%%\n"
    },
    "slideshow": {
     "slide_type": "fragment"
    }
   },
   "outputs": [],
   "source": [
    "raw_karolienplatz = osm.graph_from_point(karolinenplatz_coords, network_type='drive', dist=500,\n",
    "    simplify=False, # Discard intermediate nodes\n",
    "    retain_all=True # Keep all connected components\n",
    ")\n",
    "osm.plot_graph(raw_karolienplatz, node_color=['w' if node in karolinenplatz else 'r' for node in raw_karolienplatz])"
   ]
  },
  {
   "cell_type": "code",
   "execution_count": null,
   "metadata": {
    "cell_style": "split",
    "slideshow": {
     "slide_type": "fragment"
    }
   },
   "outputs": [],
   "source": [
    "# But we can do better!\n",
    "projected_karolienplatz = osm.project_graph(karolinenplatz)\n",
    "clean_karolienplatz = osm.consolidate_intersections(projected_karolienplatz, rebuild_graph=True, tolerance=15, dead_ends=False)\n",
    "fig, ax = osm.plot_graph(projected_karolienplatz, node_color='r', show=False, close=False)\n",
    "osm.plot_graph(clean_karolienplatz, ax=ax)"
   ]
  },
  {
   "cell_type": "markdown",
   "metadata": {
    "slideshow": {
     "slide_type": "slide"
    }
   },
   "source": [
    "## Basic routing\n",
    "\n",
    "OSMnx provides facets for basic routing: `shortest_path(G, origin, dest, weight='length')`. Here, `origin` and `dest` are nodes of the graph (i.e., of type `osmid`)."
   ]
  },
  {
   "cell_type": "code",
   "execution_count": null,
   "metadata": {
    "run_control": {
     "marked": true
    }
   },
   "outputs": [],
   "source": [
    "query = osm.geocode_to_gdf(['Arcisstraße 21, 80333 München', 'Maßmannstraße 8, 80333 München'])\n",
    "display(query)\n",
    "university, park = (query.iloc[0], query.iloc[1])"
   ]
  },
  {
   "cell_type": "markdown",
   "metadata": {
    "slideshow": {
     "slide_type": "fragment"
    }
   },
   "source": [
    "We need to map these locations to nodes in our street network. OSMnx provides the `get_nearest_node(graph, (lat, lon))` function for this."
   ]
  },
  {
   "cell_type": "code",
   "execution_count": null,
   "metadata": {
    "run_control": {
     "marked": true
    }
   },
   "outputs": [],
   "source": [
    "university_node = osm.get_nearest_node(munich_streets, (university.lat, university.lon))\n",
    "park_node = osm.get_nearest_node(munich_streets, (park.lat, park.lon))\n",
    "print(university_node, park_node)"
   ]
  },
  {
   "cell_type": "markdown",
   "metadata": {
    "slideshow": {
     "slide_type": "fragment"
    }
   },
   "source": [
    "This gives us the OSM ID's of the closest node(s)."
   ]
  },
  {
   "cell_type": "markdown",
   "metadata": {
    "slideshow": {
     "slide_type": "subslide"
    }
   },
   "source": [
    "We can use these with the shortest path function:"
   ]
  },
  {
   "cell_type": "code",
   "execution_count": null,
   "metadata": {
    "slideshow": {
     "slide_type": "fragment"
    }
   },
   "outputs": [],
   "source": [
    "shortest_path = osm.shortest_path(munich_streets, orig=university_node, dest=park_node, weight='length')\n",
    "display(shortest_path)\n",
    "\n",
    "osm.plot_graph_route(munich_streets, route=shortest_path)"
   ]
  },
  {
   "cell_type": "markdown",
   "metadata": {
    "slideshow": {
     "slide_type": "fragment"
    }
   },
   "source": [
    "Finally, we can get the length of the shortest path:"
   ]
  },
  {
   "cell_type": "code",
   "execution_count": null,
   "metadata": {
    "slideshow": {
     "slide_type": "fragment"
    }
   },
   "outputs": [],
   "source": [
    "route_length = osm.utils_graph.get_route_edge_attributes(munich_streets, shortest_path, 'length')\n",
    "print(f'Length of edges: {route_length}, total: {sum(route_length)}')"
   ]
  },
  {
   "cell_type": "markdown",
   "metadata": {
    "slideshow": {
     "slide_type": "slide"
    }
   },
   "source": [
    "## Putting it together: Diet-aware routing\n",
    "\n",
    "Let's design a routing engine that tries to minimize the number of (fast-food) restaurants the route visits. For this purpose we need to:\n",
    "\n",
    "* Get the street network\n",
    "* Fetch the locations of fast food restaurants\n",
    "* Determine which streets should be avoided\n",
    "* Find shortest paths accordingly\n",
    "\n",
    "We start by assembling the street network:"
   ]
  },
  {
   "cell_type": "code",
   "execution_count": null,
   "metadata": {
    "pycharm": {
     "name": "#%%\n"
    },
    "run_control": {
     "marked": true
    },
    "scrolled": false,
    "slideshow": {
     "slide_type": "fragment"
    }
   },
   "outputs": [],
   "source": [
    "network = osm.graph_from_address('Maxvorstadt, Munich, Germany', network_type='drive')\n",
    "# We'll want to work with reasonable distances\n",
    "network = osm.project_graph(network)\n",
    "# Simplfy intersections\n",
    "network = osm.consolidate_intersections(network, rebuild_graph=True, dead_ends=False, tolerance=30)\n",
    "\n",
    "osm.plot_graph(network)"
   ]
  },
  {
   "cell_type": "markdown",
   "metadata": {
    "slideshow": {
     "slide_type": "subslide"
    }
   },
   "source": [
    "We'll also need speeds. Here, we can again rely on built-in OSMnx functions."
   ]
  },
  {
   "cell_type": "code",
   "execution_count": null,
   "metadata": {
    "cell_style": "split",
    "scrolled": false,
    "slideshow": {
     "slide_type": "fragment"
    }
   },
   "outputs": [],
   "source": [
    "network = osm.add_edge_speeds(network, hwy_speeds={\n",
    "    'residential': 30,\n",
    "    'unclassified': 30,\n",
    "    'tertiary': 50,\n",
    "    'secondary': 70,\n",
    "    'trunk': 120,\n",
    "    'primary': 100,\n",
    "    'motorway': 130\n",
    "}, fallback=30)\n",
    "# This adds a 'speed_kph' attribute to each edge\n",
    "# We can use this to calculate the travel time\n",
    "network = osm.add_edge_travel_times(network, precision=2)\n",
    "osm.plot_graph(network, edge_color=osm.plot.get_edge_colors_by_attr(network, attr='travel_time', cmap=\"plasma\"))"
   ]
  },
  {
   "cell_type": "code",
   "execution_count": null,
   "metadata": {
    "cell_style": "split",
    "slideshow": {
     "slide_type": "fragment"
    }
   },
   "outputs": [],
   "source": [
    "nodes, edges = osm.graph_to_gdfs(network)\n",
    "edges.head(4)"
   ]
  },
  {
   "cell_type": "markdown",
   "metadata": {
    "slideshow": {
     "slide_type": "slide"
    }
   },
   "source": [
    "### Getting fast-food restaurant locations\n",
    "\n",
    "Similar to the waste disposal container case study, we fetch the geometries according to OSM *tags*:"
   ]
  },
  {
   "cell_type": "code",
   "execution_count": null,
   "metadata": {
    "pycharm": {
     "name": "#%%\n"
    },
    "run_control": {
     "marked": true
    },
    "slideshow": {
     "slide_type": "fragment"
    }
   },
   "outputs": [],
   "source": [
    "shops_in_area = osm.geometries_from_address('Maxvorstadt, Munich, Germany', tags={\n",
    "    'amenity': ['fast_food'] # 'restaurant'\n",
    "})\n",
    "# Project to meters\n",
    "shops_in_area = osm.project_gdf(shops_in_area)"
   ]
  },
  {
   "cell_type": "code",
   "execution_count": null,
   "metadata": {
    "slideshow": {
     "slide_type": "fragment"
    }
   },
   "outputs": [],
   "source": [
    "# What does our data look like?\n",
    "print(shops_in_area.columns)\n",
    "shops_in_area[['osmid', 'name', 'addr:street', 'addr:housenumber', 'geometry']].tail(5)"
   ]
  },
  {
   "cell_type": "code",
   "execution_count": null,
   "metadata": {
    "slideshow": {
     "slide_type": "fragment"
    }
   },
   "outputs": [],
   "source": [
    "# Plot the locations on the street network\n",
    "fig, ax = osm.plot_graph(network, show=False)\n",
    "shops_in_area.plot(ax=ax, color='r')"
   ]
  },
  {
   "cell_type": "markdown",
   "metadata": {
    "pycharm": {
     "name": "#%% md\n"
    },
    "slideshow": {
     "slide_type": "slide"
    }
   },
   "source": [
    "### Mapping locations to the street network\n",
    "\n",
    "This time, we need to determine the edges adjacent to each restaurant.\n",
    "\n",
    "We could use the `get_nearest_edges()` function, but then we'd have only a single edge per restaurant."
   ]
  },
  {
   "cell_type": "markdown",
   "metadata": {
    "slideshow": {
     "slide_type": "fragment"
    }
   },
   "source": [
    "Instead, we will \"expand\" the nodes to match the radius they cover, and then see which edges intersect these new geometric shapes."
   ]
  },
  {
   "cell_type": "code",
   "execution_count": null,
   "metadata": {
    "pycharm": {
     "name": "#%%\n"
    },
    "run_control": {
     "marked": true
    },
    "slideshow": {
     "slide_type": "fragment"
    }
   },
   "outputs": [],
   "source": [
    "shops_in_area['vicinity'] = shops_in_area.buffer(distance=50)\n",
    "\n",
    "fig, ax = osm.plot_graph(network, show=False, close=False)\n",
    "shops_in_area['vicinity'].plot(ax=ax, alpha=0.3, color='#00ff00')\n",
    "shops_in_area.plot(ax=ax, color='r')\n",
    "\n",
    "plt.show()\n",
    "plt.close(fig)"
   ]
  },
  {
   "cell_type": "markdown",
   "metadata": {
    "slideshow": {
     "slide_type": "subslide"
    }
   },
   "source": [
    "Finally, determine which edges are being covered."
   ]
  },
  {
   "cell_type": "code",
   "execution_count": null,
   "metadata": {
    "pycharm": {
     "name": "#%%\n"
    },
    "slideshow": {
     "slide_type": "fragment"
    }
   },
   "outputs": [],
   "source": [
    "nodes, edges = osm.graph_to_gdfs(network)\n",
    "edges['expensive'] = False\n",
    "# Find edges in vicinity\n",
    "for shop_id, shop in shops_in_area.iterrows():\n",
    "    edges['expensive'] = edges['expensive'] | edges.geometry.crosses(shop.vicinity)\n",
    "fig, ax = osm.plot_graph(network, show=False)\n",
    "edges[edges['expensive']].plot(ax=ax, color='r')\n",
    "shops_in_area['vicinity'].plot(ax=ax, alpha=0.3, color='#00ff00')\n",
    "shops_in_area.plot(ax=ax, color='r')"
   ]
  },
  {
   "cell_type": "markdown",
   "metadata": {
    "slideshow": {
     "slide_type": "slide"
    }
   },
   "source": [
    "### Assigning edge costs based on expensiveness"
   ]
  },
  {
   "cell_type": "code",
   "execution_count": null,
   "metadata": {
    "run_control": {
     "marked": true
    },
    "slideshow": {
     "slide_type": "fragment"
    }
   },
   "outputs": [],
   "source": [
    "diet_factor = 10.0\n",
    "edges['cost'] = edges['travel_time'] + (diet_factor * edges['travel_time'] * edges['expensive'])\n",
    "nx.set_edge_attributes(network, values=edges['cost'], name = 'cost')\n",
    "display(edges.tail(4))"
   ]
  },
  {
   "cell_type": "markdown",
   "metadata": {
    "slideshow": {
     "slide_type": "slide"
    }
   },
   "source": [
    "### Routing according to diet costs\n",
    "\n",
    "First, resolve our \"query\"."
   ]
  },
  {
   "cell_type": "code",
   "execution_count": null,
   "metadata": {
    "pycharm": {
     "name": "#%%\n"
    },
    "run_control": {
     "marked": true
    },
    "slideshow": {
     "slide_type": "fragment"
    }
   },
   "outputs": [],
   "source": [
    "# Let's redo our shortest path query!\n",
    "query = osm.project_gdf(osm.geocode_to_gdf([\n",
    "    dict(street='45 Arcisstraße', city='Munich', country='Germany'),\n",
    "    dict(street='8 Maßmannstraße', city='Munich', country='Germany')\n",
    "], which_result=1))\n",
    "\n",
    "university, park = (query.iloc[0], query.iloc[1])\n",
    "university_node = osm.get_nearest_node(network, (university.geometry.centroid.coords[0][1], university.geometry.centroid.coords[0][0]), method='euclidean')\n",
    "park_node = osm.get_nearest_node(network, (park.geometry.centroid.coords[0][1], park.geometry.centroid.coords[0][0]), method='euclidean')"
   ]
  },
  {
   "cell_type": "markdown",
   "metadata": {
    "slideshow": {
     "slide_type": "fragment"
    }
   },
   "source": [
    "Finally, we can use the \"cost\" attribute to find a shortest path!"
   ]
  },
  {
   "cell_type": "code",
   "execution_count": null,
   "metadata": {
    "slideshow": {
     "slide_type": "-"
    }
   },
   "outputs": [],
   "source": [
    "shortest_diet_path = osm.shortest_path(network, orig=university_node, dest=park_node, weight='cost')\n",
    "shortest_path = osm.shortest_path(network, orig=university_node, dest=park_node, weight='travel_time')\n",
    "fig, ax = osm.plot_graph_route(network, shortest_path, show=False, close=False, route_color='b')\n",
    "osm.plot_graph_route(network, shortest_diet_path, ax=ax, show=False, close=False, route_color='r')\n",
    "shops_in_area['vicinity'].plot(ax=ax, alpha=0.3, color='#00ff00')\n",
    "plt.show()"
   ]
  }
 ],
 "metadata": {
  "celltoolbar": "Slideshow",
  "kernelspec": {
   "display_name": "Python 3",
   "language": "python",
   "name": "python3"
  },
  "language_info": {
   "codemirror_mode": {
    "name": "ipython",
    "version": 3
   },
   "file_extension": ".py",
   "mimetype": "text/x-python",
   "name": "python",
   "nbconvert_exporter": "python",
   "pygments_lexer": "ipython3",
   "version": "3.9.2"
  },
  "varInspector": {
   "cols": {
    "lenName": 16,
    "lenType": 16,
    "lenVar": 40
   },
   "kernels_config": {
    "python": {
     "delete_cmd_postfix": "",
     "delete_cmd_prefix": "del ",
     "library": "var_list.py",
     "varRefreshCmd": "print(var_dic_list())"
    },
    "r": {
     "delete_cmd_postfix": ") ",
     "delete_cmd_prefix": "rm(",
     "library": "var_list.r",
     "varRefreshCmd": "cat(var_dic_list()) "
    }
   },
   "types_to_exclude": [
    "module",
    "function",
    "builtin_function_or_method",
    "instance",
    "_Feature"
   ],
   "window_display": false
  }
 },
 "nbformat": 4,
 "nbformat_minor": 1
}
