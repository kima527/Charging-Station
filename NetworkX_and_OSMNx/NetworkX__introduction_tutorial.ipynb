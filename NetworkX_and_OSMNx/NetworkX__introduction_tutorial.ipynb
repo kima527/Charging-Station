{
 "cells": [
  {
   "cell_type": "markdown",
   "metadata": {},
   "source": [
    "# NetworkX\n",
    "\n",
    "> NetworkX is a Python package for the creation, manipulation, and study of the structure, dynamics, and functions of complex networks.\n",
    "\n",
    "* Provides classes that let us treat graphs as high-level python objects\n",
    "* Implements many well-known algorithms on top of these\n",
    "* Shortest-path\n",
    "* Network flow\n",
    "* Clustering\n",
    "* ... and many more\n",
    "* Visualization using matplotlib\n",
    "* (Advanced) network analysis\n",
    "* Tools for (de-)serialization"
   ]
  },
  {
   "cell_type": "markdown",
   "metadata": {},
   "source": [
    "# NetworkX - Concepts\n",
    "\n",
    "Graphs\n",
    "comprise:\n",
    "*Graph\n",
    "object\n",
    "*Nodes(arbitrary\n",
    "values / types)\n",
    "*Edges(directed and undirected)\n",
    "*Attributes(arbitrary data, associated with `graphs`, `nodes`, `edges`)\n"
   ]
  },
  {
   "cell_type": "markdown",
   "metadata": {},
   "source": [
    "| Networkx Class | Type       | Self-loops allowed | Parallel edges allowed |\n",
    "| :- | :-: | :-: | :-: |\n",
    "| `Graph()`          | undirected | Yes                | No                     |\n",
    "| `DiGraph()`        | directed   | Yes                | No                     |\n",
    "| `MultiGraph()`     | undirected | Yes                | Yes                    |\n",
    "| `MultiDiGraph()`   | directed   | Yes                | Yes                    |"
   ]
  },
  {
   "cell_type": "code",
   "execution_count": 1,
   "metadata": {},
   "outputs": [],
   "source": [
    "import networkx as nx"
   ]
  },
  {
   "cell_type": "code",
   "execution_count": 2,
   "metadata": {},
   "outputs": [
    {
     "data": {
      "text/plain": [
       "<networkx.classes.graph.Graph at 0x11084c3d0>"
      ]
     },
     "metadata": {},
     "output_type": "display_data"
    }
   ],
   "source": [
    "# Create an empty graph\n",
    "G = nx.Graph()\n",
    "display(G)"
   ]
  },
  {
   "cell_type": "code",
   "execution_count": 3,
   "metadata": {},
   "outputs": [
    {
     "name": "stdout",
     "output_type": "stream",
     "text": [
      "['Max', 'Antonio', frozenset({'Max', 'Antonio'})]\n"
     ]
    }
   ],
   "source": [
    "# Add some nodes\n",
    "G.add_node('Max')\n",
    "# Add nodes from iterable\n",
    "G.add_nodes_from(['Antonio'])\n",
    "# Can be any hashable (https://docs.python.org/3/glossary.html#term-hashable) type\n",
    "mfms_team = frozenset(['Antonio', 'Max'])\n",
    "G.add_node(mfms_team)\n",
    "\n",
    "print(G.nodes)"
   ]
  },
  {
   "cell_type": "code",
   "execution_count": 15,
   "metadata": {},
   "outputs": [
    {
     "name": "stdout",
     "output_type": "stream",
     "text": [
      "edges:  [('Max', 'Antonio'), ('Max', frozenset({'Antonio', 'Max'})), ('Antonio', frozenset({'Antonio', 'Max'})), ('Antonio', 'A')]\n",
      "nodes:  ['Max', 'Antonio', frozenset({'Antonio', 'Max'}), 'A']\n"
     ]
    }
   ],
   "source": [
    "#Add edges\n",
    "G.add_edge('Antonio', 'Max')\n",
    "G.add_edges_from([('Antonio', mfms_team), ('Max', mfms_team)])\n",
    "\n",
    "G.add_edge('A', 'Antonio') # Be careful: Non-existent nodes are added automatically\n",
    "print(\"edges: \", G.edges)\n",
    "print(\"nodes: \",G.nodes)"
   ]
  },
  {
   "cell_type": "code",
   "execution_count": 7,
   "metadata": {},
   "outputs": [
    {
     "name": "stdout",
     "output_type": "stream",
     "text": [
      "Graph with 3 nodes and 0 edges\n"
     ]
    }
   ],
   "source": [
    "# Print overview of graph\n",
    "print(G)"
   ]
  },
  {
   "cell_type": "code",
   "execution_count": 8,
   "metadata": {},
   "outputs": [
    {
     "data": {
      "image/png": "[encoded data removed]",
      "text/plain": [
       "<Figure size 640x480 with 1 Axes>"
      ]
     },
     "metadata": {},
     "output_type": "display_data"
    }
   ],
   "source": [
    "#For small graphs, drawing works well too:\n",
    "import matplotlib.pyplot as plt\n",
    "plt.tight_layout()\n",
    "nx.draw(G, with_labels=True) #if we wanna set the position, nx.draw(G, pos= , with_labels=True)"
   ]
  },
  {
   "cell_type": "code",
   "execution_count": 9,
   "metadata": {},
   "outputs": [
    {
     "name": "stdout",
     "output_type": "stream",
     "text": [
      "Adjacency lists of nodes:  {'Max': {}, 'Antonio': {}, frozenset({'Max', 'Antonio'}): {}} \n",
      "\n",
      "Neighborhood [] vs Adjacency {} \n",
      "\n",
      "Degrees of nodes in G:  [('Max', 0), ('Antonio', 0), (frozenset({'Max', 'Antonio'}), 0)] <=> [('Max', 0), ('Antonio', 0), (frozenset({'Max', 'Antonio'}), 0)]\n"
     ]
    }
   ],
   "source": [
    "# G.adj and G.degrees\n",
    "print('Adjacency lists of nodes: ', G.adj, \"\\n\")\n",
    "print('Neighborhood', list(G.neighbors('Antonio')), 'vs Adjacency', G.adj['Antonio'],\"\\n\")\n",
    "print('Degrees of nodes in G: ', G.degree, '<=>', [(node, len(neighbors)) for node, neighbors in G.adj.items()])"
   ]
  },
  {
   "cell_type": "code",
   "execution_count": 10,
   "metadata": {},
   "outputs": [
    {
     "name": "stdout",
     "output_type": "stream",
     "text": [
      "{}\n"
     ]
    },
    {
     "ename": "KeyError",
     "evalue": "'Max'",
     "output_type": "error",
     "traceback": [
      "\u001b[0;31m---------------------------------------------------------------------------\u001b[0m",
      "\u001b[0;31mKeyError\u001b[0m                                  Traceback (most recent call last)",
      "Cell \u001b[0;32mIn[10], line 3\u001b[0m\n\u001b[1;32m      1\u001b[0m \u001b[38;5;66;03m# Look like lists, but behave like dictionaries\u001b[39;00m\n\u001b[1;32m      2\u001b[0m \u001b[38;5;28mprint\u001b[39m(G\u001b[38;5;241m.\u001b[39mnodes[\u001b[38;5;124m'\u001b[39m\u001b[38;5;124mAntonio\u001b[39m\u001b[38;5;124m'\u001b[39m]) \u001b[38;5;66;03m# access attributes in node Antonio\u001b[39;00m\n\u001b[0;32m----> 3\u001b[0m \u001b[38;5;28mprint\u001b[39m(G\u001b[38;5;241m.\u001b[39medges[\u001b[38;5;124m'\u001b[39m\u001b[38;5;124mAntonio\u001b[39m\u001b[38;5;124m'\u001b[39m, \u001b[38;5;124m'\u001b[39m\u001b[38;5;124mMax\u001b[39m\u001b[38;5;124m'\u001b[39m])\n",
      "File \u001b[0;32m~/anaconda3/lib/python3.11/site-packages/networkx/classes/reportviews.py:1085\u001b[0m, in \u001b[0;36mOutEdgeView.__getitem__\u001b[0;34m(self, e)\u001b[0m\n\u001b[1;32m   1080\u001b[0m     \u001b[38;5;28;01mraise\u001b[39;00m nx\u001b[38;5;241m.\u001b[39mNetworkXError(\n\u001b[1;32m   1081\u001b[0m         \u001b[38;5;124mf\u001b[39m\u001b[38;5;124m\"\u001b[39m\u001b[38;5;132;01m{\u001b[39;00m\u001b[38;5;28mtype\u001b[39m(\u001b[38;5;28mself\u001b[39m)\u001b[38;5;241m.\u001b[39m\u001b[38;5;18m__name__\u001b[39m\u001b[38;5;132;01m}\u001b[39;00m\u001b[38;5;124m does not support slicing, \u001b[39m\u001b[38;5;124m\"\u001b[39m\n\u001b[1;32m   1082\u001b[0m         \u001b[38;5;124mf\u001b[39m\u001b[38;5;124m\"\u001b[39m\u001b[38;5;124mtry list(G.edges)[\u001b[39m\u001b[38;5;132;01m{\u001b[39;00me\u001b[38;5;241m.\u001b[39mstart\u001b[38;5;132;01m}\u001b[39;00m\u001b[38;5;124m:\u001b[39m\u001b[38;5;132;01m{\u001b[39;00me\u001b[38;5;241m.\u001b[39mstop\u001b[38;5;132;01m}\u001b[39;00m\u001b[38;5;124m:\u001b[39m\u001b[38;5;132;01m{\u001b[39;00me\u001b[38;5;241m.\u001b[39mstep\u001b[38;5;132;01m}\u001b[39;00m\u001b[38;5;124m]\u001b[39m\u001b[38;5;124m\"\u001b[39m\n\u001b[1;32m   1083\u001b[0m     )\n\u001b[1;32m   1084\u001b[0m u, v \u001b[38;5;241m=\u001b[39m e\n\u001b[0;32m-> 1085\u001b[0m \u001b[38;5;28;01mreturn\u001b[39;00m \u001b[38;5;28mself\u001b[39m\u001b[38;5;241m.\u001b[39m_adjdict[u][v]\n",
      "\u001b[0;31mKeyError\u001b[0m: 'Max'"
     ]
    }
   ],
   "source": [
    "# Look like lists, but behave like dictionaries\n",
    "print(G.nodes['Antonio']) # access attributes in node Antonio\n",
    "print(G.edges['Antonio', 'Max']) # access attributes in edge Antonio Max"
   ]
  },
  {
   "cell_type": "code",
   "execution_count": 38,
   "metadata": {},
   "outputs": [
    {
     "name": "stdout",
     "output_type": "stream",
     "text": [
      "{'role': 'Lecturer'}\n",
      "{'relationship': 'supervises', 'years_together': 2}\n"
     ]
    }
   ],
   "source": [
    "# Store role=Lecturer on node Max\n",
    "G.nodes['Max']['role'] = 'Lecturer'\n",
    "print(G.nodes['Max'])\n",
    "\n",
    "# Add value 'supervises' to key 'relationship' of edge dict.\n",
    "G.edges['Max', 'Antonio']['relationship'] = 'supervises'\n",
    "G.edges['Max', 'Antonio']['years_together'] = 2\n",
    "print(G.edges['Max', 'Antonio'])"
   ]
  },
  {
   "cell_type": "code",
   "execution_count": 11,
   "metadata": {},
   "outputs": [
    {
     "ename": "NameError",
     "evalue": "name 'true' is not defined",
     "output_type": "error",
     "traceback": [
      "\u001b[0;31m---------------------------------------------------------------------------\u001b[0m",
      "\u001b[0;31mNameError\u001b[0m                                 Traceback (most recent call last)",
      "Cell \u001b[0;32mIn[11], line 3\u001b[0m\n\u001b[1;32m      1\u001b[0m G_directed \u001b[38;5;241m=\u001b[39m nx\u001b[38;5;241m.\u001b[39mDiGraph()\n\u001b[1;32m      2\u001b[0m G_directed\u001b[38;5;241m.\u001b[39madd_nodes_from([\u001b[38;5;124m'\u001b[39m\u001b[38;5;124mMax\u001b[39m\u001b[38;5;124m'\u001b[39m, \u001b[38;5;124m'\u001b[39m\u001b[38;5;124mAntonio\u001b[39m\u001b[38;5;124m'\u001b[39m])\n\u001b[0;32m----> 3\u001b[0m G_directed\u001b[38;5;241m.\u001b[39madd_edge(\u001b[38;5;124m'\u001b[39m\u001b[38;5;124mMax\u001b[39m\u001b[38;5;124m'\u001b[39m, \u001b[38;5;124m'\u001b[39m\u001b[38;5;124mAntonio\u001b[39m\u001b[38;5;124m'\u001b[39m, relationship\u001b[38;5;241m=\u001b[39m\u001b[38;5;124m'\u001b[39m\u001b[38;5;124msupervises\u001b[39m\u001b[38;5;124m'\u001b[39m, they_like_eachother \u001b[38;5;241m=\u001b[39m true)\n\u001b[1;32m      4\u001b[0m \u001b[38;5;28mprint\u001b[39m(G_directed\u001b[38;5;241m.\u001b[39medges[\u001b[38;5;124m'\u001b[39m\u001b[38;5;124mMax\u001b[39m\u001b[38;5;124m'\u001b[39m, \u001b[38;5;124m'\u001b[39m\u001b[38;5;124mAntonio\u001b[39m\u001b[38;5;124m'\u001b[39m])\n\u001b[1;32m      5\u001b[0m \u001b[38;5;66;03m# We get a KeyError here as this edge does not exist\u001b[39;00m\n",
      "\u001b[0;31mNameError\u001b[0m: name 'true' is not defined"
     ]
    }
   ],
   "source": [
    "G_directed = nx.DiGraph()\n",
    "G_directed.add_nodes_from(['Max', 'Antonio'])\n",
    "G_directed.add_edge('Max', 'Antonio', relationship='supervises', they_like_eachother = true)\n",
    "print(G_directed.edges['Max', 'Antonio'])\n",
    "# We get a KeyError here as this edge does not exist\n",
    "print(G_directed.edges['Antonio', 'Max'])"
   ]
  }
 ],
 "metadata": {
  "kernelspec": {
   "display_name": "Python 3 (ipykernel)",
   "language": "python",
   "name": "python3"
  },
  "language_info": {
   "codemirror_mode": {
    "name": "ipython",
    "version": 3
   },
   "file_extension": ".py",
   "mimetype": "text/x-python",
   "name": "python",
   "nbconvert_exporter": "python",
   "pygments_lexer": "ipython3",
   "version": "3.11.5"
  }
 },
 "nbformat": 4,
 "nbformat_minor": 1
}
