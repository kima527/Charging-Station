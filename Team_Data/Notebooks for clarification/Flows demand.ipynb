{
 "cells": [
  {
   "cell_type": "code",
   "execution_count": 5,
   "outputs": [
    {
     "ename": "ImportError",
     "evalue": "scikit-learn must be installed to search an unprojected graph",
     "output_type": "error",
     "traceback": [
      "\u001B[1;31m---------------------------------------------------------------------------\u001B[0m",
      "\u001B[1;31mImportError\u001B[0m                               Traceback (most recent call last)",
      "Cell \u001B[1;32mIn[5], line 23\u001B[0m\n\u001B[0;32m     20\u001B[0m G \u001B[38;5;241m=\u001B[39m ox\u001B[38;5;241m.\u001B[39mgraph_from_address(\u001B[38;5;124m\"\u001B[39m\u001B[38;5;124mMunich, Germany\u001B[39m\u001B[38;5;124m\"\u001B[39m, network_type\u001B[38;5;241m=\u001B[39m\u001B[38;5;124m'\u001B[39m\u001B[38;5;124mdrive\u001B[39m\u001B[38;5;124m'\u001B[39m, dist\u001B[38;5;241m=\u001B[39m\u001B[38;5;241m4000\u001B[39m)\n\u001B[0;32m     22\u001B[0m \u001B[38;5;66;03m# Find the nearest nodes to the locations\u001B[39;00m\n\u001B[1;32m---> 23\u001B[0m nearest_nodes \u001B[38;5;241m=\u001B[39m {name: \u001B[43mox\u001B[49m\u001B[38;5;241;43m.\u001B[39;49m\u001B[43mdistance\u001B[49m\u001B[38;5;241;43m.\u001B[39;49m\u001B[43mnearest_nodes\u001B[49m\u001B[43m(\u001B[49m\u001B[43mG\u001B[49m\u001B[43m,\u001B[49m\u001B[43m \u001B[49m\u001B[43mpoint\u001B[49m\u001B[43m[\u001B[49m\u001B[38;5;241;43m1\u001B[39;49m\u001B[43m]\u001B[49m\u001B[43m,\u001B[49m\u001B[43m \u001B[49m\u001B[43mpoint\u001B[49m\u001B[43m[\u001B[49m\u001B[38;5;241;43m0\u001B[39;49m\u001B[43m]\u001B[49m\u001B[43m)\u001B[49m \u001B[38;5;28;01mfor\u001B[39;00m name, point \u001B[38;5;129;01min\u001B[39;00m coords\u001B[38;5;241m.\u001B[39mitems()}\n\u001B[0;32m     25\u001B[0m \u001B[38;5;66;03m# Function to calculate the centroid of coordinates\u001B[39;00m\n\u001B[0;32m     26\u001B[0m \u001B[38;5;28;01mdef\u001B[39;00m \u001B[38;5;21mcalculate_centroid\u001B[39m(coords):\n",
      "File \u001B[1;32m~\\PycharmProjects\\FMS\\.venv\\Lib\\site-packages\\osmnx\\distance.py:293\u001B[0m, in \u001B[0;36mnearest_nodes\u001B[1;34m(G, X, Y, return_dist)\u001B[0m\n\u001B[0;32m    291\u001B[0m \u001B[38;5;28;01mif\u001B[39;00m BallTree \u001B[38;5;129;01mis\u001B[39;00m \u001B[38;5;28;01mNone\u001B[39;00m:  \u001B[38;5;66;03m# pragma: no cover\u001B[39;00m\n\u001B[0;32m    292\u001B[0m     msg \u001B[38;5;241m=\u001B[39m \u001B[38;5;124m\"\u001B[39m\u001B[38;5;124mscikit-learn must be installed to search an unprojected graph\u001B[39m\u001B[38;5;124m\"\u001B[39m\n\u001B[1;32m--> 293\u001B[0m     \u001B[38;5;28;01mraise\u001B[39;00m \u001B[38;5;167;01mImportError\u001B[39;00m(msg)\n\u001B[0;32m    294\u001B[0m \u001B[38;5;66;03m# haversine requires lat, lon coords in radians\u001B[39;00m\n\u001B[0;32m    295\u001B[0m nodes_rad \u001B[38;5;241m=\u001B[39m np\u001B[38;5;241m.\u001B[39mdeg2rad(nodes[[\u001B[38;5;124m\"\u001B[39m\u001B[38;5;124my\u001B[39m\u001B[38;5;124m\"\u001B[39m, \u001B[38;5;124m\"\u001B[39m\u001B[38;5;124mx\u001B[39m\u001B[38;5;124m\"\u001B[39m]])\n",
      "\u001B[1;31mImportError\u001B[0m: scikit-learn must be installed to search an unprojected graph"
     ]
    }
   ],
   "source": [
    "import math\n",
    "import networkx as nx\n",
    "import osmnx as ox\n",
    "from geopy.distance import great_circle\n",
    "\n",
    "# Define locations\n",
    "locations = {\n",
    "    \"Marienplatz\": \"Marienplatz, Munich, Germany\",\n",
    "    \"Olympiapark\": \"Olympiapark, Munich, Germany\",\n",
    "    \"HBF\": \"Hauptbahnhof, Munich, Germany\",\n",
    "    \"BMW\": \"BMW Welt, Munich, Germany\",\n",
    "    \"TUM City Center\": \"Arcisstraße 21, 80333 Munich, Germany\",\n",
    "    \"Münchener Freiheit\": \"Münchener Freiheit, Munich, Germany\"\n",
    "}\n",
    "\n",
    "# Geocode locations\n",
    "coords = {name: ox.geocode(loc) for name, loc in locations.items()}\n",
    "\n",
    "# Create a network graph for Munich\n",
    "G = ox.graph_from_address(\"Munich, Germany\", network_type='drive', dist=4000)\n",
    "\n",
    "# Find the nearest nodes to the locations\n",
    "nearest_nodes = {name: ox.distance.nearest_nodes(G, point[1], point[0]) for name, point in coords.items()}\n",
    "\n",
    "# Function to calculate the centroid of coordinates\n",
    "def calculate_centroid(coords):\n",
    "    latitudes = [coord[0] for coord in coords.values()]\n",
    "    longitudes = [coord[1] for coord in coords.values()]\n",
    "    return sum(latitudes) / len(latitudes), sum(longitudes) / len(longitudes)\n",
    "\n",
    "# Calculate the centroid of the nodes\n",
    "centroid = calculate_centroid(coords)\n",
    "\n",
    "# Function to calculate distance between two points\n",
    "def calculate_distance(point1, point2):\n",
    "    return great_circle(point1, point2).kilometers\n",
    "\n",
    "# Find the maximum distance from the centroid to any node\n",
    "max_distance_to_centroid = max(calculate_distance(centroid, point) for point in coords.values())\n",
    "\n",
    "# Calculate the area of the circle\n",
    "area_of_circle = math.pi * (max_distance_to_centroid ** 2)\n",
    "\n",
    "# Munich's population density (people per square km)\n",
    "population_density = 4900  # Adjust as needed\n",
    "\n",
    "# Calculate C based on the area and population density\n",
    "C = area_of_circle * population_density\n",
    "\n",
    "# Custom function to estimate trips\n",
    "def estimate_trips(distance, C, alpha):\n",
    "    return C * math.exp(-alpha * distance)\n",
    "\n",
    "# Constants for the model\n",
    "alpha = 0.1  # Decay constant, adjust based on scenario\n",
    "\n",
    "# Define the routes as a dictionary of O-D pairs\n",
    "routes = {\n",
    "    \"Marienplatz to Olympiapark\": nx.shortest_path_length(G, nearest_nodes[\"Marienplatz\"], nearest_nodes[\"Olympiapark\"], weight='length'),\n",
    "    \"Olympiapark to HBF\": nx.shortest_path_length(G, nearest_nodes[\"Olympiapark\"], nearest_nodes[\"HBF\"], weight='length'),\n",
    "    \"HBF to BMW\": nx.shortest_path_length(G, nearest_nodes[\"HBF\"], nearest_nodes[\"BMW\"], weight='length'),\n",
    "    \"BMW to TUM City Center\": nx.shortest_path_length(G, nearest_nodes[\"BMW\"], nearest_nodes[\"TUM City Center\"], weight='length'),\n",
    "    \"TUM City Center to Münchener Freiheit\": nx.shortest_path_length(G, nearest_nodes[\"TUM City Center\"], nearest_nodes[\"Münchener Freiheit\"], weight='length'),\n",
    "    \"Münchener Freiheit to Olympiapark\": nx.shortest_path_length(G, nearest_nodes[\"Münchener Freiheit\"], nearest_nodes[\"Olympiapark\"], weight='length'),\n",
    "}\n",
    "\n",
    "# Calculate estimated trips for each route\n",
    "estimated_trips = {}\n",
    "for route in routes.keys():\n",
    "    distance = routes[route]/1000  # Distance for the route in km\n",
    "    trips = estimate_trips(distance, C, alpha)\n",
    "    estimated_trips[route] = trips\n",
    "\n",
    "# Assuming 220 working days a year\n",
    "annual_trips = {route: trips * 260 for route, trips in estimated_trips.items()}\n",
    "\n",
    "# Print the estimated annual trips for each route\n",
    "for route, trips in annual_trips.items():\n",
    "    print(f\"{route}: {trips} trips/year\")"
   ],
   "metadata": {
    "collapsed": false,
    "ExecuteTime": {
     "end_time": "2024-01-28T11:54:42.078640300Z",
     "start_time": "2024-01-28T11:54:35.235340400Z"
    }
   },
   "id": "13d21fbd9b1a033d"
  },
  {
   "cell_type": "code",
   "execution_count": null,
   "outputs": [],
   "source": [],
   "metadata": {
    "collapsed": false
   },
   "id": "1f51473bf7390f09"
  }
 ],
 "metadata": {
  "kernelspec": {
   "display_name": "Python 3",
   "language": "python",
   "name": "python3"
  },
  "language_info": {
   "codemirror_mode": {
    "name": "ipython",
    "version": 2
   },
   "file_extension": ".py",
   "mimetype": "text/x-python",
   "name": "python",
   "nbconvert_exporter": "python",
   "pygments_lexer": "ipython2",
   "version": "2.7.6"
  }
 },
 "nbformat": 4,
 "nbformat_minor": 5
}
