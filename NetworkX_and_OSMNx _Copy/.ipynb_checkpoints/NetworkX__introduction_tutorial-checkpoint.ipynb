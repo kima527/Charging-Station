{
 "cells": [
  {
   "cell_type": "markdown",
   "metadata": {},
   "source": [
    "# NetworkX\n",
    "\n",
    "> NetworkX is a Python package for the creation, manipulation, and study of the structure, dynamics, and functions of complex networks.\n",
    "\n",
    "* Provides classes that let us treat graphs as high-level python objects\n",
    "* Implements many well-known algorithms on top of these\n",
    "* Shortest-path\n",
    "* Network flow\n",
    "* Clustering\n",
    "* ... and many more\n",
    "* Visualization using matplotlib\n",
    "* (Advanced) network analysis\n",
    "* Tools for (de-)serialization"
   ]
  },
  {
   "cell_type": "markdown",
   "metadata": {},
   "source": [
    "# NetworkX - Concepts\n",
    "\n",
    "Graphs\n",
    "comprise:\n",
    "*Graph\n",
    "object\n",
    "*Nodes(arbitrary\n",
    "values / types)\n",
    "*Edges(directed and undirected)\n",
    "*Attributes(arbitrary data, associated with `graphs`, `nodes`, `edges`)\n"
   ]
  },
  {
   "cell_type": "markdown",
   "metadata": {},
   "source": [
    "| Networkx Class | Type       | Self-loops allowed | Parallel edges allowed |\n",
    "| :- | :-: | :-: | :-: |\n",
    "| `Graph()`          | undirected | Yes                | No                     |\n",
    "| `DiGraph()`        | directed   | Yes                | No                     |\n",
    "| `MultiGraph()`     | undirected | Yes                | Yes                    |\n",
    "| `MultiDiGraph()`   | directed   | Yes                | Yes                    |"
   ]
  },
  {
   "cell_type": "code",
   "execution_count": 1,
   "metadata": {},
   "outputs": [],
   "source": [
    "import networkx as nx"
   ]
  },
  {
   "cell_type": "code",
   "execution_count": 2,
   "metadata": {},
   "outputs": [
    {
     "data": {
      "text/plain": [
       "<networkx.classes.graph.Graph at 0x11084c3d0>"
      ]
     },
     "metadata": {},
     "output_type": "display_data"
    }
   ],
   "source": [
    "# Create an empty graph\n",
    "G = nx.Graph()\n",
    "display(G)"
   ]
  },
  {
   "cell_type": "code",
   "execution_count": 3,
   "metadata": {},
   "outputs": [
    {
     "name": "stdout",
     "output_type": "stream",
     "text": [
      "['Max', 'Antonio', frozenset({'Max', 'Antonio'})]\n"
     ]
    }
   ],
   "source": [
    "# Add some nodes\n",
    "G.add_node('Max')\n",
    "# Add nodes from iterable\n",
    "G.add_nodes_from(['Antonio'])\n",
    "# Can be any hashable (https://docs.python.org/3/glossary.html#term-hashable) type\n",
    "mfms_team = frozenset(['Antonio', 'Max'])\n",
    "G.add_node(mfms_team)\n",
    "\n",
    "print(G.nodes)"
   ]
  },
  {
   "cell_type": "code",
   "execution_count": 15,
   "metadata": {},
   "outputs": [
    {
     "name": "stdout",
     "output_type": "stream",
     "text": [
      "edges:  [('Max', 'Antonio'), ('Max', frozenset({'Antonio', 'Max'})), ('Antonio', frozenset({'Antonio', 'Max'})), ('Antonio', 'A')]\n",
      "nodes:  ['Max', 'Antonio', frozenset({'Antonio', 'Max'}), 'A']\n"
     ]
    }
   ],
   "source": [
    "#Add edges\n",
    "G.add_edge('Antonio', 'Max')\n",
    "G.add_edges_from([('Antonio', mfms_team), ('Max', mfms_team)])\n",
    "\n",
    "G.add_edge('A', 'Antonio') # Be careful: Non-existent nodes are added automatically\n",
    "print(\"edges: \", G.edges)\n",
    "print(\"nodes: \",G.nodes)"
   ]
  },
  {
   "cell_type": "code",
   "execution_count": 16,
   "metadata": {},
   "outputs": [
    {
     "name": "stdout",
     "output_type": "stream",
     "text": [
      "Graph with 4 nodes and 4 edges\n"
     ]
    }
   ],
   "source": [
    "# Print overview of graph\n",
    "print(G)"
   ]
  },
  {
   "cell_type": "code",
   "execution_count": 25,
   "metadata": {},
   "outputs": [
    {
     "data": {
      "image/png": "[encoded data removed]",
      "text/plain": [
       "<Figure size 640x480 with 1 Axes>"
      ]
     },
     "metadata": {},
     "output_type": "display_data"
    }
   ],
   "source": [
    "#For small graphs, drawing works well too:\n",
    "import matplotlib.pyplot as plt\n",
    "plt.tight_layout()\n",
    "nx.draw(G, with_labels=True)"
   ]
  },
  {
   "cell_type": "code",
   "execution_count": 32,
   "metadata": {},
   "outputs": [
    {
     "name": "stdout",
     "output_type": "stream",
     "text": [
      "Adjacency lists of nodes:  {'Max': {'Antonio': {}, frozenset({'Antonio', 'Max'}): {}}, 'Antonio': {'Max': {}, frozenset({'Antonio', 'Max'}): {}, 'A': {}}, frozenset({'Antonio', 'Max'}): {'Antonio': {}, 'Max': {}}, 'A': {'Antonio': {}}} \n",
      "\n",
      "Neighborhood ['Max', frozenset({'Antonio', 'Max'}), 'A'] vs Adjacency {'Max': {}, frozenset({'Antonio', 'Max'}): {}, 'A': {}} \n",
      "\n",
      "Degrees of nodes in G:  [('Max', 2), ('Antonio', 3), (frozenset({'Antonio', 'Max'}), 2), ('A', 1)] <=> [('Max', 2), ('Antonio', 3), (frozenset({'Antonio', 'Max'}), 2), ('A', 1)]\n"
     ]
    }
   ],
   "source": [
    "# G.adj and G.degrees\n",
    "print('Adjacency lists of nodes: ', G.adj, \"\\n\")\n",
    "print('Neighborhood', list(G.neighbors('Antonio')), 'vs Adjacency', G.adj['Antonio'],\"\\n\")\n",
    "print('Degrees of nodes in G: ', G.degree, '<=>', [(node, len(neighbors)) for node, neighbors in G.adj.items()])"
   ]
  },
  {
   "cell_type": "code",
   "execution_count": 36,
   "metadata": {},
   "outputs": [
    {
     "name": "stdout",
     "output_type": "stream",
     "text": [
      "{}\n",
      "{'relationship': 'supervises', 'years_together': 2}\n"
     ]
    }
   ],
   "source": [
    "# Look like lists, but behave like dictionaries\n",
    "print(G.nodes['Antonio']) # access attributes in node Antonio\n",
    "print(G.edges['Antonio', 'Max']) # access attributes in edge Antonio Max"
   ]
  },
  {
   "cell_type": "code",
   "execution_count": 38,
   "metadata": {},
   "outputs": [
    {
     "name": "stdout",
     "output_type": "stream",
     "text": [
      "{'role': 'Lecturer'}\n",
      "{'relationship': 'supervises', 'years_together': 2}\n"
     ]
    }
   ],
   "source": [
    "# Store role=Lecturer on node Max\n",
    "G.nodes['Max']['role'] = 'Lecturer'\n",
    "print(G.nodes['Max'])\n",
    "\n",
    "# Add value 'supervises' to key 'relationship' of edge dict.\n",
    "G.edges['Max', 'Antonio']['relationship'] = 'supervises'\n",
    "G.edges['Max', 'Antonio']['years_together'] = 2\n",
    "print(G.edges['Max', 'Antonio'])"
   ]
  },
  {
   "cell_type": "code",
   "execution_count": 40,
   "metadata": {},
   "outputs": [
    {
     "name": "stdout",
     "output_type": "stream",
     "text": [
      "{'relationship': 'supervises'}\n"
     ]
    },
    {
     "ename": "KeyError",
     "evalue": "'Max'",
     "output_type": "error",
     "traceback": [
      "\u001b[1;31m---------------------------------------------------------------------------\u001b[0m",
      "\u001b[1;31mKeyError\u001b[0m                                  Traceback (most recent call last)",
      "Cell \u001b[1;32mIn [40], line 6\u001b[0m\n\u001b[0;32m      4\u001b[0m \u001b[38;5;28mprint\u001b[39m(G_directed\u001b[38;5;241m.\u001b[39medges[\u001b[38;5;124m'\u001b[39m\u001b[38;5;124mMax\u001b[39m\u001b[38;5;124m'\u001b[39m, \u001b[38;5;124m'\u001b[39m\u001b[38;5;124mAntonio\u001b[39m\u001b[38;5;124m'\u001b[39m])\n\u001b[0;32m      5\u001b[0m \u001b[38;5;66;03m# We get a KeyError here as this edge does not exist\u001b[39;00m\n\u001b[1;32m----> 6\u001b[0m \u001b[38;5;28mprint\u001b[39m(\u001b[43mG_directed\u001b[49m\u001b[38;5;241;43m.\u001b[39;49m\u001b[43medges\u001b[49m\u001b[43m[\u001b[49m\u001b[38;5;124;43m'\u001b[39;49m\u001b[38;5;124;43mAntonio\u001b[39;49m\u001b[38;5;124;43m'\u001b[39;49m\u001b[43m,\u001b[49m\u001b[43m \u001b[49m\u001b[38;5;124;43m'\u001b[39;49m\u001b[38;5;124;43mMax\u001b[39;49m\u001b[38;5;124;43m'\u001b[39;49m\u001b[43m]\u001b[49m)\n",
      "File \u001b[1;32m~\\AppData\\Roaming\\Python\\Python39\\site-packages\\networkx\\classes\\reportviews.py:1094\u001b[0m, in \u001b[0;36mOutEdgeView.__getitem__\u001b[1;34m(self, e)\u001b[0m\n\u001b[0;32m   1089\u001b[0m     \u001b[38;5;28;01mraise\u001b[39;00m nx\u001b[38;5;241m.\u001b[39mNetworkXError(\n\u001b[0;32m   1090\u001b[0m         \u001b[38;5;124mf\u001b[39m\u001b[38;5;124m\"\u001b[39m\u001b[38;5;132;01m{\u001b[39;00m\u001b[38;5;28mtype\u001b[39m(\u001b[38;5;28mself\u001b[39m)\u001b[38;5;241m.\u001b[39m\u001b[38;5;18m__name__\u001b[39m\u001b[38;5;132;01m}\u001b[39;00m\u001b[38;5;124m does not support slicing, \u001b[39m\u001b[38;5;124m\"\u001b[39m\n\u001b[0;32m   1091\u001b[0m         \u001b[38;5;124mf\u001b[39m\u001b[38;5;124m\"\u001b[39m\u001b[38;5;124mtry list(G.edges)[\u001b[39m\u001b[38;5;132;01m{\u001b[39;00me\u001b[38;5;241m.\u001b[39mstart\u001b[38;5;132;01m}\u001b[39;00m\u001b[38;5;124m:\u001b[39m\u001b[38;5;132;01m{\u001b[39;00me\u001b[38;5;241m.\u001b[39mstop\u001b[38;5;132;01m}\u001b[39;00m\u001b[38;5;124m:\u001b[39m\u001b[38;5;132;01m{\u001b[39;00me\u001b[38;5;241m.\u001b[39mstep\u001b[38;5;132;01m}\u001b[39;00m\u001b[38;5;124m]\u001b[39m\u001b[38;5;124m\"\u001b[39m\n\u001b[0;32m   1092\u001b[0m     )\n\u001b[0;32m   1093\u001b[0m u, v \u001b[38;5;241m=\u001b[39m e\n\u001b[1;32m-> 1094\u001b[0m \u001b[38;5;28;01mreturn\u001b[39;00m \u001b[38;5;28;43mself\u001b[39;49m\u001b[38;5;241;43m.\u001b[39;49m\u001b[43m_adjdict\u001b[49m\u001b[43m[\u001b[49m\u001b[43mu\u001b[49m\u001b[43m]\u001b[49m\u001b[43m[\u001b[49m\u001b[43mv\u001b[49m\u001b[43m]\u001b[49m\n",
      "\u001b[1;31mKeyError\u001b[0m: 'Max'"
     ]
    }
   ],
   "source": [
    "G_directed = nx.DiGraph()\n",
    "G_directed.add_nodes_from(['Max', 'Antonio'])\n",
    "G_directed.add_edge('Max', 'Antonio', relationship='supervises')\n",
    "print(G_directed.edges['Max', 'Antonio'])\n",
    "# We get a KeyError here as this edge does not exist\n",
    "print(G_directed.edges['Antonio', 'Max'])"
   ]
  }
 ],
 "metadata": {
  "kernelspec": {
   "display_name": "Python 3 (ipykernel)",
   "language": "python",
   "name": "python3"
  },
  "language_info": {
   "codemirror_mode": {
    "name": "ipython",
    "version": 3
   },
   "file_extension": ".py",
   "mimetype": "text/x-python",
   "name": "python",
   "nbconvert_exporter": "python",
   "pygments_lexer": "ipython3",
   "version": "3.11.5"
  }
 },
 "nbformat": 4,
 "nbformat_minor": 1
}
